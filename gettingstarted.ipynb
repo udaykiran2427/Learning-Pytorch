{
  "nbformat": 4,
  "nbformat_minor": 0,
  "metadata": {
    "colab": {
      "provenance": [],
      "authorship_tag": "ABX9TyNtMVxQE4nGy/HftVerJr4I",
      "include_colab_link": true
    },
    "kernelspec": {
      "name": "python3",
      "display_name": "Python 3"
    },
    "language_info": {
      "name": "python"
    }
  },
  "cells": [
    {
      "cell_type": "markdown",
      "metadata": {
        "id": "view-in-github",
        "colab_type": "text"
      },
      "source": [
        "<a href=\"https://colab.research.google.com/github/udaykiran2427/Learning-Pytorch/blob/main/gettingstarted.ipynb\" target=\"_parent\"><img src=\"https://colab.research.google.com/assets/colab-badge.svg\" alt=\"Open In Colab\"/></a>"
      ]
    },
    {
      "cell_type": "markdown",
      "source": [
        "Fundamentals\n"
      ],
      "metadata": {
        "id": "LiovibPjHSqq"
      }
    },
    {
      "cell_type": "code",
      "source": [
        "import torch\n",
        "import pandas as pd\n",
        "import numpy as np\n",
        "import matplotlib.pyplot as plt\n",
        "print(torch.__version__)"
      ],
      "metadata": {
        "colab": {
          "base_uri": "https://localhost:8080/"
        },
        "id": "WYQGwQQaF97u",
        "outputId": "a83f318c-af0b-4500-b731-c93ef5c63157"
      },
      "execution_count": null,
      "outputs": [
        {
          "output_type": "stream",
          "name": "stdout",
          "text": [
            "2.4.1+cu121\n"
          ]
        }
      ]
    },
    {
      "cell_type": "code",
      "execution_count": null,
      "metadata": {
        "colab": {
          "base_uri": "https://localhost:8080/"
        },
        "id": "pjo6gAY-Fyhe",
        "outputId": "ee5b7d85-c1e3-4f80-b262-8b4f2c20e2c1"
      },
      "outputs": [
        {
          "output_type": "execute_result",
          "data": {
            "text/plain": [
              "0"
            ]
          },
          "metadata": {},
          "execution_count": 2
        }
      ],
      "source": [
        "# creating tensors\n",
        "#scalar\n",
        "scalar = torch.tensor(7)\n",
        "scalar\n",
        "scalar.ndim\n"
      ]
    },
    {
      "cell_type": "markdown",
      "source": [
        "# New section"
      ],
      "metadata": {
        "id": "RlaDnpnyGOlV"
      }
    },
    {
      "cell_type": "code",
      "source": [
        "scalar.item()"
      ],
      "metadata": {
        "colab": {
          "base_uri": "https://localhost:8080/"
        },
        "id": "cI2qCc-4F-ch",
        "outputId": "f591aaf5-fd9d-4962-d5d9-537657ac8a4d"
      },
      "execution_count": null,
      "outputs": [
        {
          "output_type": "execute_result",
          "data": {
            "text/plain": [
              "7"
            ]
          },
          "metadata": {},
          "execution_count": 3
        }
      ]
    },
    {
      "cell_type": "code",
      "source": [
        "vector = torch.tensor([7,7])\n",
        "vector"
      ],
      "metadata": {
        "colab": {
          "base_uri": "https://localhost:8080/"
        },
        "id": "x7QepCMXIva5",
        "outputId": "7a19d46c-0e27-4dbe-88f7-ae46ba75c283"
      },
      "execution_count": null,
      "outputs": [
        {
          "output_type": "execute_result",
          "data": {
            "text/plain": [
              "tensor([7, 7])"
            ]
          },
          "metadata": {},
          "execution_count": 4
        }
      ]
    },
    {
      "cell_type": "code",
      "source": [
        "vector.shape\n",
        "vector.ndim"
      ],
      "metadata": {
        "colab": {
          "base_uri": "https://localhost:8080/"
        },
        "id": "SdRekfXdI3q_",
        "outputId": "b8bd0708-8497-4873-dd01-959caef692e5"
      },
      "execution_count": null,
      "outputs": [
        {
          "output_type": "execute_result",
          "data": {
            "text/plain": [
              "1"
            ]
          },
          "metadata": {},
          "execution_count": 5
        }
      ]
    },
    {
      "cell_type": "code",
      "source": [
        "#Creating a MATRIX\n",
        "MAT = torch.tensor([[7,8],[1,2]])\n",
        "MAT"
      ],
      "metadata": {
        "colab": {
          "base_uri": "https://localhost:8080/"
        },
        "id": "1FAk7M21JAIr",
        "outputId": "aad4b84c-b4a6-4c08-f7e7-b7df51c85b4c"
      },
      "execution_count": null,
      "outputs": [
        {
          "output_type": "execute_result",
          "data": {
            "text/plain": [
              "tensor([[7, 8],\n",
              "        [1, 2]])"
            ]
          },
          "metadata": {},
          "execution_count": 6
        }
      ]
    },
    {
      "cell_type": "code",
      "source": [
        "MAT.ndim\n"
      ],
      "metadata": {
        "colab": {
          "base_uri": "https://localhost:8080/"
        },
        "id": "hDb10mkmJLfS",
        "outputId": "5b3e3b22-8ea7-42d1-ca6d-382a52bd86d7"
      },
      "execution_count": null,
      "outputs": [
        {
          "output_type": "execute_result",
          "data": {
            "text/plain": [
              "2"
            ]
          },
          "metadata": {},
          "execution_count": 7
        }
      ]
    },
    {
      "cell_type": "code",
      "source": [
        "MAT.shape"
      ],
      "metadata": {
        "colab": {
          "base_uri": "https://localhost:8080/"
        },
        "id": "9_-6w-jhJYze",
        "outputId": "d30e4e2d-9ab4-4b6e-f863-f2c80b936d45"
      },
      "execution_count": null,
      "outputs": [
        {
          "output_type": "execute_result",
          "data": {
            "text/plain": [
              "torch.Size([2, 2])"
            ]
          },
          "metadata": {},
          "execution_count": 8
        }
      ]
    },
    {
      "cell_type": "code",
      "source": [
        "TENSOR = torch.tensor([[[1,2,3],[4,5,6],[7,8,9]]])"
      ],
      "metadata": {
        "id": "aWjOcWaiJo5l"
      },
      "execution_count": null,
      "outputs": []
    },
    {
      "cell_type": "code",
      "source": [
        "TENSOR"
      ],
      "metadata": {
        "colab": {
          "base_uri": "https://localhost:8080/"
        },
        "id": "zWXO3qR8J44Z",
        "outputId": "912ff9b2-ed04-4fe3-a1d0-d4b2eec7f9fe"
      },
      "execution_count": null,
      "outputs": [
        {
          "output_type": "execute_result",
          "data": {
            "text/plain": [
              "tensor([[[1, 2, 3],\n",
              "         [4, 5, 6],\n",
              "         [7, 8, 9]]])"
            ]
          },
          "metadata": {},
          "execution_count": 10
        }
      ]
    },
    {
      "cell_type": "code",
      "source": [
        "TENSOR.shape"
      ],
      "metadata": {
        "colab": {
          "base_uri": "https://localhost:8080/"
        },
        "id": "W-iio5DoJ8W4",
        "outputId": "a087b31f-4309-4d09-f4e4-ab19753d2945"
      },
      "execution_count": null,
      "outputs": [
        {
          "output_type": "execute_result",
          "data": {
            "text/plain": [
              "torch.Size([1, 3, 3])"
            ]
          },
          "metadata": {},
          "execution_count": 11
        }
      ]
    },
    {
      "cell_type": "code",
      "source": [
        "TENSOR.ndim"
      ],
      "metadata": {
        "colab": {
          "base_uri": "https://localhost:8080/"
        },
        "id": "PjHWh7zaJ_Zp",
        "outputId": "e191d4de-0d2f-46e6-fc2d-1de6543501fe"
      },
      "execution_count": null,
      "outputs": [
        {
          "output_type": "execute_result",
          "data": {
            "text/plain": [
              "3"
            ]
          },
          "metadata": {},
          "execution_count": 12
        }
      ]
    },
    {
      "cell_type": "code",
      "source": [
        "##Scalars and vectors in lower case, Matrix and Tensors in uppercase, for naming"
      ],
      "metadata": {
        "id": "yu5v96kzKBfL"
      },
      "execution_count": null,
      "outputs": []
    },
    {
      "cell_type": "markdown",
      "source": [
        "###Random Tensors"
      ],
      "metadata": {
        "id": "lcRNZckwLB4A"
      }
    },
    {
      "cell_type": "code",
      "source": [
        "random_tensor = torch.rand(3,4)\n",
        "random_tensor"
      ],
      "metadata": {
        "colab": {
          "base_uri": "https://localhost:8080/"
        },
        "id": "0QQI4sE2LD8V",
        "outputId": "16d38151-7b46-44f1-e961-400fb8e78341"
      },
      "execution_count": null,
      "outputs": [
        {
          "output_type": "execute_result",
          "data": {
            "text/plain": [
              "tensor([[0.7995, 0.3953, 0.8040, 0.1321],\n",
              "        [0.1834, 0.1686, 0.8054, 0.6907],\n",
              "        [0.7768, 0.2469, 0.1037, 0.5262]])"
            ]
          },
          "metadata": {},
          "execution_count": 14
        }
      ]
    },
    {
      "cell_type": "code",
      "source": [
        "image_sz_tensor = torch.rand(size=(224,224,3))\n",
        "image_sz_tensor"
      ],
      "metadata": {
        "colab": {
          "base_uri": "https://localhost:8080/"
        },
        "id": "cobo5DfELXPy",
        "outputId": "5e8fd099-905b-4a50-a29e-a3960a066a13"
      },
      "execution_count": null,
      "outputs": [
        {
          "output_type": "execute_result",
          "data": {
            "text/plain": [
              "tensor([[[6.8005e-01, 3.3190e-01, 7.7372e-01],\n",
              "         [3.3937e-02, 9.0792e-01, 5.0201e-01],\n",
              "         [8.8907e-01, 5.9361e-02, 4.4294e-01],\n",
              "         ...,\n",
              "         [1.0891e-01, 4.9597e-01, 4.4392e-01],\n",
              "         [6.5840e-01, 2.7922e-01, 1.6913e-01],\n",
              "         [4.3674e-01, 7.7356e-01, 6.1977e-01]],\n",
              "\n",
              "        [[9.1306e-01, 7.4666e-01, 2.8112e-01],\n",
              "         [7.1373e-01, 6.8583e-01, 3.1954e-01],\n",
              "         [3.6717e-03, 5.5899e-01, 1.0805e-01],\n",
              "         ...,\n",
              "         [8.2926e-01, 1.0702e-01, 1.7432e-01],\n",
              "         [7.9872e-01, 4.4571e-02, 3.7837e-01],\n",
              "         [8.0126e-01, 8.0427e-01, 8.0525e-01]],\n",
              "\n",
              "        [[9.1419e-01, 8.4261e-01, 2.7346e-01],\n",
              "         [3.2981e-01, 2.4143e-01, 2.5353e-01],\n",
              "         [8.9109e-01, 8.2289e-01, 8.9112e-01],\n",
              "         ...,\n",
              "         [3.9114e-01, 1.0504e-01, 3.5393e-01],\n",
              "         [1.2729e-01, 5.4978e-01, 7.4539e-01],\n",
              "         [5.7730e-01, 2.0565e-01, 9.2538e-01]],\n",
              "\n",
              "        ...,\n",
              "\n",
              "        [[8.3110e-02, 3.4535e-01, 5.9455e-01],\n",
              "         [2.1415e-03, 5.4499e-01, 6.8139e-01],\n",
              "         [3.4088e-01, 2.8158e-01, 3.8341e-01],\n",
              "         ...,\n",
              "         [5.5522e-01, 7.7739e-01, 8.8449e-01],\n",
              "         [5.1413e-01, 3.4370e-01, 2.2213e-01],\n",
              "         [1.1305e-01, 9.8430e-01, 5.2844e-01]],\n",
              "\n",
              "        [[6.6545e-01, 9.0699e-02, 4.1444e-01],\n",
              "         [6.1775e-01, 5.5798e-01, 4.3103e-01],\n",
              "         [7.6783e-01, 3.7282e-01, 1.4018e-01],\n",
              "         ...,\n",
              "         [3.9485e-01, 6.6813e-01, 4.3847e-01],\n",
              "         [7.8057e-01, 9.4452e-01, 1.5580e-01],\n",
              "         [9.8632e-01, 7.9812e-01, 2.0940e-01]],\n",
              "\n",
              "        [[7.7604e-01, 9.3738e-01, 1.1221e-03],\n",
              "         [8.6608e-01, 1.5256e-01, 3.0223e-01],\n",
              "         [3.8722e-01, 7.3045e-01, 3.9756e-01],\n",
              "         ...,\n",
              "         [5.5583e-02, 7.5800e-01, 1.2385e-01],\n",
              "         [6.2143e-01, 1.7226e-01, 8.7872e-01],\n",
              "         [7.9632e-04, 1.9285e-02, 1.5355e-01]]])"
            ]
          },
          "metadata": {},
          "execution_count": 15
        }
      ]
    },
    {
      "cell_type": "code",
      "source": [
        "image_sz_tensor.shape"
      ],
      "metadata": {
        "colab": {
          "base_uri": "https://localhost:8080/"
        },
        "id": "dMIscnwjL-Hc",
        "outputId": "8c1abb9e-63af-434b-cddc-cbb5cd02b2c0"
      },
      "execution_count": null,
      "outputs": [
        {
          "output_type": "execute_result",
          "data": {
            "text/plain": [
              "torch.Size([224, 224, 3])"
            ]
          },
          "metadata": {},
          "execution_count": 16
        }
      ]
    },
    {
      "cell_type": "code",
      "source": [],
      "metadata": {
        "id": "KelncauFMSdr"
      },
      "execution_count": null,
      "outputs": []
    },
    {
      "cell_type": "markdown",
      "source": [
        "Zeroes and Ones in  a tensor"
      ],
      "metadata": {
        "id": "k75UvHhpMrjb"
      }
    },
    {
      "cell_type": "code",
      "source": [
        "zero = torch.zeros(3,4)"
      ],
      "metadata": {
        "id": "3h5s5InzMuVW"
      },
      "execution_count": null,
      "outputs": []
    },
    {
      "cell_type": "code",
      "source": [
        "zero"
      ],
      "metadata": {
        "colab": {
          "base_uri": "https://localhost:8080/"
        },
        "id": "L1Rl5fTmMzTb",
        "outputId": "f08213be-6b6b-4c2b-d693-11dac50ea9ab"
      },
      "execution_count": null,
      "outputs": [
        {
          "output_type": "execute_result",
          "data": {
            "text/plain": [
              "tensor([[0., 0., 0., 0.],\n",
              "        [0., 0., 0., 0.],\n",
              "        [0., 0., 0., 0.]])"
            ]
          },
          "metadata": {},
          "execution_count": 18
        }
      ]
    },
    {
      "cell_type": "code",
      "source": [
        "ones  = torch.ones(3,4)\n",
        "ones"
      ],
      "metadata": {
        "colab": {
          "base_uri": "https://localhost:8080/"
        },
        "id": "88L6zz6mM1gY",
        "outputId": "ef38dfac-69a4-41bb-cb87-8ba879751257"
      },
      "execution_count": null,
      "outputs": [
        {
          "output_type": "execute_result",
          "data": {
            "text/plain": [
              "tensor([[1., 1., 1., 1.],\n",
              "        [1., 1., 1., 1.],\n",
              "        [1., 1., 1., 1.]])"
            ]
          },
          "metadata": {},
          "execution_count": 19
        }
      ]
    },
    {
      "cell_type": "code",
      "source": [
        "ones.dtype"
      ],
      "metadata": {
        "colab": {
          "base_uri": "https://localhost:8080/"
        },
        "id": "rM4ipE1zM_0r",
        "outputId": "e4ef2c3d-0455-4365-a6e6-a71b2069bd70"
      },
      "execution_count": null,
      "outputs": [
        {
          "output_type": "execute_result",
          "data": {
            "text/plain": [
              "torch.float32"
            ]
          },
          "metadata": {},
          "execution_count": 20
        }
      ]
    },
    {
      "cell_type": "markdown",
      "source": [
        "Range of tensors"
      ],
      "metadata": {
        "id": "bFwkfKfuNUzg"
      }
    },
    {
      "cell_type": "code",
      "source": [
        "zero_to_ten=torch.arange(0,10)"
      ],
      "metadata": {
        "id": "Q9mYIhYZNGAi"
      },
      "execution_count": null,
      "outputs": []
    },
    {
      "cell_type": "code",
      "source": [
        "ten_zeroes = torch.zeros_like(input=zero_to_ten)\n",
        "ten_zeroes"
      ],
      "metadata": {
        "colab": {
          "base_uri": "https://localhost:8080/"
        },
        "id": "Lq439m0sNbLm",
        "outputId": "c8c26805-334f-4ed5-bb23-fd374cb61b78"
      },
      "execution_count": null,
      "outputs": [
        {
          "output_type": "execute_result",
          "data": {
            "text/plain": [
              "tensor([0, 0, 0, 0, 0, 0, 0, 0, 0, 0])"
            ]
          },
          "metadata": {},
          "execution_count": 22
        }
      ]
    },
    {
      "cell_type": "code",
      "source": [
        "#tensor data types\n",
        "#float 32\n",
        "float_32_tensor = torch.tensor([3.,6.,9.])\n",
        "float_32_tensor"
      ],
      "metadata": {
        "colab": {
          "base_uri": "https://localhost:8080/"
        },
        "id": "49BeChhbOAKN",
        "outputId": "7ce9fd1f-43e7-480e-d8c0-26c3bcb64318"
      },
      "execution_count": null,
      "outputs": [
        {
          "output_type": "execute_result",
          "data": {
            "text/plain": [
              "tensor([3., 6., 9.])"
            ]
          },
          "metadata": {},
          "execution_count": 23
        }
      ]
    },
    {
      "cell_type": "code",
      "source": [
        "float_32_tensor.dtype"
      ],
      "metadata": {
        "colab": {
          "base_uri": "https://localhost:8080/"
        },
        "id": "Dez0UYA-O14V",
        "outputId": "f9ac5448-1a9e-4c60-a76c-44b96407a64f"
      },
      "execution_count": null,
      "outputs": [
        {
          "output_type": "execute_result",
          "data": {
            "text/plain": [
              "torch.float32"
            ]
          },
          "metadata": {},
          "execution_count": 24
        }
      ]
    },
    {
      "cell_type": "code",
      "source": [
        "some_tensor = torch.rand(3,4)"
      ],
      "metadata": {
        "id": "rwJxqQYRPNTY"
      },
      "execution_count": null,
      "outputs": []
    },
    {
      "cell_type": "code",
      "source": [
        "some_tensor"
      ],
      "metadata": {
        "colab": {
          "base_uri": "https://localhost:8080/"
        },
        "id": "HIWK1DYcI5X9",
        "outputId": "e8233e2c-f38d-4d21-bae1-7c126a68679f"
      },
      "execution_count": null,
      "outputs": [
        {
          "output_type": "execute_result",
          "data": {
            "text/plain": [
              "tensor([[0.8649, 0.5814, 0.4070, 0.6164],\n",
              "        [0.8280, 0.1680, 0.1380, 0.8006],\n",
              "        [0.8188, 0.1161, 0.2085, 0.9507]])"
            ]
          },
          "metadata": {},
          "execution_count": 26
        }
      ]
    },
    {
      "cell_type": "code",
      "source": [
        "print(some_tensor)\n",
        "print(f\"Datatype of tensor: {some_tensor.dtype}\")\n",
        "print(f\"Shape of tensor: {some_tensor.shape}\")\n",
        "print(f\"Device tensor is on: {some_tensor.device}\")"
      ],
      "metadata": {
        "colab": {
          "base_uri": "https://localhost:8080/"
        },
        "id": "N5r6eeiEI8ds",
        "outputId": "caffd22a-2755-4632-fc8f-38d055e7a9fb"
      },
      "execution_count": null,
      "outputs": [
        {
          "output_type": "stream",
          "name": "stdout",
          "text": [
            "tensor([[0.8649, 0.5814, 0.4070, 0.6164],\n",
            "        [0.8280, 0.1680, 0.1380, 0.8006],\n",
            "        [0.8188, 0.1161, 0.2085, 0.9507]])\n",
            "Datatype of tensor: torch.float32\n",
            "Shape of tensor: torch.Size([3, 4])\n",
            "Device tensor is on: cpu\n"
          ]
        }
      ]
    },
    {
      "cell_type": "markdown",
      "source": [
        "Manipulating Tensors\n",
        "*Tensor operations\n",
        "* Addition\n",
        "* Subtraction\n",
        "* Multiplication\n",
        "* Division\n",
        "* Matrix Multiplication"
      ],
      "metadata": {
        "id": "9Rsg4FrcJLbC"
      }
    },
    {
      "cell_type": "code",
      "source": [
        "#Create a tensor and add 10\n",
        "tensor = torch.tensor([1,2,3])\n",
        "tensor+10"
      ],
      "metadata": {
        "colab": {
          "base_uri": "https://localhost:8080/"
        },
        "id": "6XI7JGh1I_sx",
        "outputId": "5a930220-e885-41f9-9506-6a9c37d468d5"
      },
      "execution_count": null,
      "outputs": [
        {
          "output_type": "execute_result",
          "data": {
            "text/plain": [
              "tensor([11, 12, 13])"
            ]
          },
          "metadata": {},
          "execution_count": 30
        }
      ]
    },
    {
      "cell_type": "code",
      "source": [
        "#Multiplu tensor by 10\n",
        "tensor*10"
      ],
      "metadata": {
        "colab": {
          "base_uri": "https://localhost:8080/"
        },
        "id": "8b0bHlZBJEPT",
        "outputId": "ada537a7-0895-4ad9-e447-0e789acc3bbf"
      },
      "execution_count": null,
      "outputs": [
        {
          "output_type": "execute_result",
          "data": {
            "text/plain": [
              "tensor([10, 20, 30])"
            ]
          },
          "metadata": {},
          "execution_count": 31
        }
      ]
    },
    {
      "cell_type": "code",
      "source": [
        "#Subtract 10\n",
        "tensor-10"
      ],
      "metadata": {
        "colab": {
          "base_uri": "https://localhost:8080/"
        },
        "id": "bdiSPP5WJ3HS",
        "outputId": "03446dbe-0dbd-4101-fc17-ccd31d08af3c"
      },
      "execution_count": null,
      "outputs": [
        {
          "output_type": "execute_result",
          "data": {
            "text/plain": [
              "tensor([-9, -8, -7])"
            ]
          },
          "metadata": {},
          "execution_count": 32
        }
      ]
    },
    {
      "cell_type": "code",
      "source": [
        "#multiplication using in built functions\n",
        "torch.mul(tensor,10)\n",
        "#torch.add(),torch.sub() etc...,"
      ],
      "metadata": {
        "colab": {
          "base_uri": "https://localhost:8080/"
        },
        "id": "Eg5_V4IIJ99-",
        "outputId": "f45e567e-aefa-4fc5-d8be-9b8db6e9af73"
      },
      "execution_count": null,
      "outputs": [
        {
          "output_type": "execute_result",
          "data": {
            "text/plain": [
              "tensor([10, 20, 30])"
            ]
          },
          "metadata": {},
          "execution_count": 33
        }
      ]
    },
    {
      "cell_type": "markdown",
      "source": [
        "Matrix Multiplication\n"
      ],
      "metadata": {
        "id": "dRlMenAxKuNJ"
      }
    },
    {
      "cell_type": "code",
      "source": [
        "print(\"element wise matrix multiplication\")\n",
        "print(tensor,\"*\",tensor)\n",
        "print(f\"Equals: {tensor*tensor}\")\n",
        "\n"
      ],
      "metadata": {
        "colab": {
          "base_uri": "https://localhost:8080/"
        },
        "id": "DX56BwEQKI8U",
        "outputId": "8255362b-57a4-4c9a-9ae0-5fe63735cc62"
      },
      "execution_count": null,
      "outputs": [
        {
          "output_type": "stream",
          "name": "stdout",
          "text": [
            "element wise matrix multiplication\n",
            "tensor([1, 2, 3]) * tensor([1, 2, 3])\n",
            "Equals: tensor([1, 4, 9])\n"
          ]
        }
      ]
    },
    {
      "cell_type": "code",
      "source": [
        "print(\"Matrix Multiplication\")\n",
        "print(tensor,\"*\",tensor)\n",
        "print(f\"Equals: {torch.matmul(tensor,tensor)}\")"
      ],
      "metadata": {
        "colab": {
          "base_uri": "https://localhost:8080/"
        },
        "id": "i-bpeyHyK4hA",
        "outputId": "a7405d36-5c0e-471c-9d00-ea0c66a52c5d"
      },
      "execution_count": null,
      "outputs": [
        {
          "output_type": "stream",
          "name": "stdout",
          "text": [
            "Matrix Multiplication\n",
            "tensor([1, 2, 3]) * tensor([1, 2, 3])\n",
            "Equals: 14\n"
          ]
        }
      ]
    },
    {
      "cell_type": "code",
      "source": [],
      "metadata": {
        "id": "d4bgcl9dMLcs"
      },
      "execution_count": null,
      "outputs": []
    },
    {
      "cell_type": "markdown",
      "source": [
        "min max mean sum etc\n"
      ],
      "metadata": {
        "id": "TkjQMIAzMaN2"
      }
    },
    {
      "cell_type": "code",
      "source": [
        "x = torch.arange(0,100,10)\n",
        "x,x.dtype"
      ],
      "metadata": {
        "colab": {
          "base_uri": "https://localhost:8080/"
        },
        "id": "Fe8nSdpyO-wv",
        "outputId": "77207aac-1998-41b1-9391-ae69da3721a1"
      },
      "execution_count": null,
      "outputs": [
        {
          "output_type": "execute_result",
          "data": {
            "text/plain": [
              "(tensor([ 0, 10, 20, 30, 40, 50, 60, 70, 80, 90]), torch.int64)"
            ]
          },
          "metadata": {},
          "execution_count": 47
        }
      ]
    },
    {
      "cell_type": "code",
      "source": [
        "torch.min(x),x.min()"
      ],
      "metadata": {
        "colab": {
          "base_uri": "https://localhost:8080/"
        },
        "id": "Z1ZBL6PwPB_w",
        "outputId": "339d1923-3198-4f25-dd5c-91a37c89833d"
      },
      "execution_count": null,
      "outputs": [
        {
          "output_type": "execute_result",
          "data": {
            "text/plain": [
              "(tensor(0), tensor(0))"
            ]
          },
          "metadata": {},
          "execution_count": 42
        }
      ]
    },
    {
      "cell_type": "code",
      "source": [
        "torch.max(x),x.max()"
      ],
      "metadata": {
        "colab": {
          "base_uri": "https://localhost:8080/"
        },
        "id": "sZWWpfNnPFr8",
        "outputId": "96fe7944-d98d-4052-b6fb-88813b1d2c6d"
      },
      "execution_count": null,
      "outputs": [
        {
          "output_type": "execute_result",
          "data": {
            "text/plain": [
              "(tensor(90), tensor(90))"
            ]
          },
          "metadata": {},
          "execution_count": 44
        }
      ]
    },
    {
      "cell_type": "code",
      "source": [
        "#torch.mean() requires a tensor of float 32\n",
        "torch.mean(x.type(torch.float32)),x.type(torch.float32).mean()"
      ],
      "metadata": {
        "colab": {
          "base_uri": "https://localhost:8080/"
        },
        "id": "hlbhZ_krPITM",
        "outputId": "633e4451-af17-456a-e6d1-dd723c4c71f6"
      },
      "execution_count": null,
      "outputs": [
        {
          "output_type": "execute_result",
          "data": {
            "text/plain": [
              "(tensor(45.), tensor(45.))"
            ]
          },
          "metadata": {},
          "execution_count": 49
        }
      ]
    },
    {
      "cell_type": "code",
      "source": [
        "x.dtype, torch.sum(x),x.sum() #sum works for int 64 whereas mean doesnt"
      ],
      "metadata": {
        "colab": {
          "base_uri": "https://localhost:8080/"
        },
        "id": "AO4c6E_1PNxN",
        "outputId": "77356872-a840-4add-81e9-4c623fbcdb56"
      },
      "execution_count": null,
      "outputs": [
        {
          "output_type": "execute_result",
          "data": {
            "text/plain": [
              "(torch.int64, tensor(450), tensor(450))"
            ]
          },
          "metadata": {},
          "execution_count": 53
        }
      ]
    },
    {
      "cell_type": "code",
      "source": [],
      "metadata": {
        "id": "72xRMwWuPvia"
      },
      "execution_count": null,
      "outputs": []
    }
  ]
}