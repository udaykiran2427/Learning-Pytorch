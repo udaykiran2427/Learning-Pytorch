{
  "nbformat": 4,
  "nbformat_minor": 0,
  "metadata": {
    "colab": {
      "provenance": [],
      "gpuType": "T4",
      "authorship_tag": "ABX9TyN+meAbfMXO9GR+FKCjbgNR",
      "include_colab_link": true
    },
    "kernelspec": {
      "name": "python3",
      "display_name": "Python 3"
    },
    "language_info": {
      "name": "python"
    },
    "accelerator": "GPU"
  },
  "cells": [
    {
      "cell_type": "markdown",
      "metadata": {
        "id": "view-in-github",
        "colab_type": "text"
      },
      "source": [
        "<a href=\"https://colab.research.google.com/github/udaykiran2427/Learning-Pytorch/blob/main/gettingstarted.ipynb\" target=\"_parent\"><img src=\"https://colab.research.google.com/assets/colab-badge.svg\" alt=\"Open In Colab\"/></a>"
      ]
    },
    {
      "cell_type": "markdown",
      "source": [
        "Fundamentals\n"
      ],
      "metadata": {
        "id": "LiovibPjHSqq"
      }
    },
    {
      "cell_type": "code",
      "source": [
        "import torch\n",
        "import pandas as pd\n",
        "import numpy as np\n",
        "import matplotlib.pyplot as plt\n",
        "print(torch.__version__)"
      ],
      "metadata": {
        "colab": {
          "base_uri": "https://localhost:8080/"
        },
        "id": "WYQGwQQaF97u",
        "outputId": "3945753b-d524-4c01-b1b6-33b00f39ade3"
      },
      "execution_count": 1,
      "outputs": [
        {
          "output_type": "stream",
          "name": "stdout",
          "text": [
            "2.4.1+cu121\n"
          ]
        }
      ]
    },
    {
      "cell_type": "code",
      "execution_count": 2,
      "metadata": {
        "colab": {
          "base_uri": "https://localhost:8080/"
        },
        "id": "pjo6gAY-Fyhe",
        "outputId": "a8dc2474-8fdd-448a-9362-1bf3c97d3f6c"
      },
      "outputs": [
        {
          "output_type": "execute_result",
          "data": {
            "text/plain": [
              "0"
            ]
          },
          "metadata": {},
          "execution_count": 2
        }
      ],
      "source": [
        "# creating tensors\n",
        "#scalar\n",
        "scalar = torch.tensor(7)\n",
        "scalar\n",
        "scalar.ndim\n"
      ]
    },
    {
      "cell_type": "markdown",
      "source": [
        "# New section"
      ],
      "metadata": {
        "id": "RlaDnpnyGOlV"
      }
    },
    {
      "cell_type": "code",
      "source": [
        "scalar.item()"
      ],
      "metadata": {
        "colab": {
          "base_uri": "https://localhost:8080/"
        },
        "id": "cI2qCc-4F-ch",
        "outputId": "8e861ba9-e40c-42a4-a13f-ab352e1c175b"
      },
      "execution_count": 3,
      "outputs": [
        {
          "output_type": "execute_result",
          "data": {
            "text/plain": [
              "7"
            ]
          },
          "metadata": {},
          "execution_count": 3
        }
      ]
    },
    {
      "cell_type": "code",
      "source": [
        "vector = torch.tensor([7,7])\n",
        "vector"
      ],
      "metadata": {
        "colab": {
          "base_uri": "https://localhost:8080/"
        },
        "id": "x7QepCMXIva5",
        "outputId": "31773b64-9e42-46a6-9acf-700dee2712e7"
      },
      "execution_count": 4,
      "outputs": [
        {
          "output_type": "execute_result",
          "data": {
            "text/plain": [
              "tensor([7, 7])"
            ]
          },
          "metadata": {},
          "execution_count": 4
        }
      ]
    },
    {
      "cell_type": "code",
      "source": [
        "vector.shape\n",
        "vector.ndim"
      ],
      "metadata": {
        "colab": {
          "base_uri": "https://localhost:8080/"
        },
        "id": "SdRekfXdI3q_",
        "outputId": "ff4a073d-1ec1-4a4a-eeba-6f0cd3945e51"
      },
      "execution_count": 5,
      "outputs": [
        {
          "output_type": "execute_result",
          "data": {
            "text/plain": [
              "1"
            ]
          },
          "metadata": {},
          "execution_count": 5
        }
      ]
    },
    {
      "cell_type": "code",
      "source": [
        "#Creating a MATRIX\n",
        "MAT = torch.tensor([[7,8],[1,2]])\n",
        "MAT"
      ],
      "metadata": {
        "colab": {
          "base_uri": "https://localhost:8080/"
        },
        "id": "1FAk7M21JAIr",
        "outputId": "3cee9e16-4ddd-41ff-b9c2-8ad02ba6ed4d"
      },
      "execution_count": 6,
      "outputs": [
        {
          "output_type": "execute_result",
          "data": {
            "text/plain": [
              "tensor([[7, 8],\n",
              "        [1, 2]])"
            ]
          },
          "metadata": {},
          "execution_count": 6
        }
      ]
    },
    {
      "cell_type": "code",
      "source": [
        "MAT.ndim\n"
      ],
      "metadata": {
        "colab": {
          "base_uri": "https://localhost:8080/"
        },
        "id": "hDb10mkmJLfS",
        "outputId": "88fde9be-2d25-46bf-b0f7-4b821d1197dd"
      },
      "execution_count": 7,
      "outputs": [
        {
          "output_type": "execute_result",
          "data": {
            "text/plain": [
              "2"
            ]
          },
          "metadata": {},
          "execution_count": 7
        }
      ]
    },
    {
      "cell_type": "code",
      "source": [
        "MAT.shape"
      ],
      "metadata": {
        "colab": {
          "base_uri": "https://localhost:8080/"
        },
        "id": "9_-6w-jhJYze",
        "outputId": "c57dd559-7eab-4a33-fdd8-16a2d63397dd"
      },
      "execution_count": 8,
      "outputs": [
        {
          "output_type": "execute_result",
          "data": {
            "text/plain": [
              "torch.Size([2, 2])"
            ]
          },
          "metadata": {},
          "execution_count": 8
        }
      ]
    },
    {
      "cell_type": "code",
      "source": [
        "TENSOR = torch.tensor([[[1,2,3],[4,5,6],[7,8,9]]])"
      ],
      "metadata": {
        "id": "aWjOcWaiJo5l"
      },
      "execution_count": 9,
      "outputs": []
    },
    {
      "cell_type": "code",
      "source": [
        "TENSOR"
      ],
      "metadata": {
        "colab": {
          "base_uri": "https://localhost:8080/"
        },
        "id": "zWXO3qR8J44Z",
        "outputId": "01da8785-505a-492f-a7bc-460eaedcef75"
      },
      "execution_count": 10,
      "outputs": [
        {
          "output_type": "execute_result",
          "data": {
            "text/plain": [
              "tensor([[[1, 2, 3],\n",
              "         [4, 5, 6],\n",
              "         [7, 8, 9]]])"
            ]
          },
          "metadata": {},
          "execution_count": 10
        }
      ]
    },
    {
      "cell_type": "code",
      "source": [
        "TENSOR.shape"
      ],
      "metadata": {
        "colab": {
          "base_uri": "https://localhost:8080/"
        },
        "id": "W-iio5DoJ8W4",
        "outputId": "4d759b98-4433-4679-abd5-1eb660573854"
      },
      "execution_count": 11,
      "outputs": [
        {
          "output_type": "execute_result",
          "data": {
            "text/plain": [
              "torch.Size([1, 3, 3])"
            ]
          },
          "metadata": {},
          "execution_count": 11
        }
      ]
    },
    {
      "cell_type": "code",
      "source": [
        "TENSOR.ndim"
      ],
      "metadata": {
        "colab": {
          "base_uri": "https://localhost:8080/"
        },
        "id": "PjHWh7zaJ_Zp",
        "outputId": "703c0c03-5b78-4bc0-883b-00fbd2de1e95"
      },
      "execution_count": 12,
      "outputs": [
        {
          "output_type": "execute_result",
          "data": {
            "text/plain": [
              "3"
            ]
          },
          "metadata": {},
          "execution_count": 12
        }
      ]
    },
    {
      "cell_type": "code",
      "source": [
        "##Scalars and vectors in lower case, Matrix and Tensors in uppercase, for naming"
      ],
      "metadata": {
        "id": "yu5v96kzKBfL"
      },
      "execution_count": 13,
      "outputs": []
    },
    {
      "cell_type": "markdown",
      "source": [
        "###Random Tensors"
      ],
      "metadata": {
        "id": "lcRNZckwLB4A"
      }
    },
    {
      "cell_type": "code",
      "source": [
        "random_tensor = torch.rand(3,4)\n",
        "random_tensor"
      ],
      "metadata": {
        "colab": {
          "base_uri": "https://localhost:8080/"
        },
        "id": "0QQI4sE2LD8V",
        "outputId": "339ef3e1-59de-4af6-d69a-1e2e9f21f3d3"
      },
      "execution_count": 14,
      "outputs": [
        {
          "output_type": "execute_result",
          "data": {
            "text/plain": [
              "tensor([[0.8364, 0.0959, 0.9070, 0.0603],\n",
              "        [0.9827, 0.9784, 0.4130, 0.4058],\n",
              "        [0.6371, 0.8043, 0.7713, 0.5696]])"
            ]
          },
          "metadata": {},
          "execution_count": 14
        }
      ]
    },
    {
      "cell_type": "code",
      "source": [
        "image_sz_tensor = torch.rand(size=(224,224,3))\n",
        "image_sz_tensor"
      ],
      "metadata": {
        "colab": {
          "base_uri": "https://localhost:8080/"
        },
        "id": "cobo5DfELXPy",
        "outputId": "a45c8a87-bebb-4232-de47-eb162705d906"
      },
      "execution_count": 15,
      "outputs": [
        {
          "output_type": "execute_result",
          "data": {
            "text/plain": [
              "tensor([[[1.4008e-01, 6.5794e-01, 4.6460e-01],\n",
              "         [4.8120e-01, 1.9505e-01, 1.1591e-01],\n",
              "         [5.4755e-01, 1.6488e-02, 3.7217e-01],\n",
              "         ...,\n",
              "         [4.9906e-01, 2.0166e-01, 3.2002e-02],\n",
              "         [2.0193e-01, 2.4666e-01, 7.0151e-01],\n",
              "         [3.4571e-01, 6.5066e-03, 2.8500e-01]],\n",
              "\n",
              "        [[8.1008e-01, 1.4664e-01, 2.8743e-01],\n",
              "         [9.0877e-01, 9.9166e-01, 5.4100e-02],\n",
              "         [8.1091e-01, 4.7241e-01, 5.0804e-01],\n",
              "         ...,\n",
              "         [9.7961e-01, 8.0139e-02, 4.7040e-01],\n",
              "         [6.5966e-01, 3.6378e-01, 7.5581e-01],\n",
              "         [9.8988e-01, 9.5678e-01, 2.2695e-01]],\n",
              "\n",
              "        [[7.4762e-01, 3.3335e-01, 8.8942e-02],\n",
              "         [9.6739e-01, 5.5685e-01, 2.7729e-02],\n",
              "         [4.6309e-01, 6.8472e-01, 5.1973e-01],\n",
              "         ...,\n",
              "         [2.3860e-01, 4.6606e-01, 6.4367e-01],\n",
              "         [3.4825e-02, 1.1108e-01, 4.8994e-01],\n",
              "         [7.5370e-04, 1.8058e-01, 2.9347e-02]],\n",
              "\n",
              "        ...,\n",
              "\n",
              "        [[6.2310e-01, 5.6968e-01, 3.4638e-01],\n",
              "         [2.0695e-01, 1.0279e-02, 8.4406e-02],\n",
              "         [6.2298e-01, 8.1961e-01, 1.9417e-01],\n",
              "         ...,\n",
              "         [1.1793e-02, 1.0917e-01, 7.6223e-01],\n",
              "         [9.8905e-01, 2.5674e-01, 2.0348e-01],\n",
              "         [3.0339e-01, 7.2725e-01, 1.1611e-01]],\n",
              "\n",
              "        [[7.0970e-01, 4.6610e-01, 6.8264e-01],\n",
              "         [5.7954e-01, 4.8460e-01, 3.3855e-02],\n",
              "         [2.9789e-01, 8.8211e-01, 9.0413e-01],\n",
              "         ...,\n",
              "         [2.0055e-01, 9.9724e-01, 5.7145e-01],\n",
              "         [7.8889e-01, 9.9167e-01, 2.2226e-01],\n",
              "         [1.5151e-01, 6.4701e-01, 6.8510e-01]],\n",
              "\n",
              "        [[7.3012e-01, 3.7067e-01, 9.8080e-01],\n",
              "         [4.5312e-01, 5.9328e-01, 6.2908e-01],\n",
              "         [7.5727e-01, 7.1466e-01, 4.7709e-01],\n",
              "         ...,\n",
              "         [3.0080e-01, 4.5351e-01, 2.8596e-01],\n",
              "         [2.8885e-01, 5.2025e-01, 1.9315e-01],\n",
              "         [1.1972e-01, 4.0716e-02, 8.5657e-01]]])"
            ]
          },
          "metadata": {},
          "execution_count": 15
        }
      ]
    },
    {
      "cell_type": "code",
      "source": [
        "image_sz_tensor.shape"
      ],
      "metadata": {
        "colab": {
          "base_uri": "https://localhost:8080/"
        },
        "id": "dMIscnwjL-Hc",
        "outputId": "8c450882-7f16-403b-8c81-ef99b7b24ecb"
      },
      "execution_count": 16,
      "outputs": [
        {
          "output_type": "execute_result",
          "data": {
            "text/plain": [
              "torch.Size([224, 224, 3])"
            ]
          },
          "metadata": {},
          "execution_count": 16
        }
      ]
    },
    {
      "cell_type": "code",
      "source": [],
      "metadata": {
        "id": "KelncauFMSdr"
      },
      "execution_count": 16,
      "outputs": []
    },
    {
      "cell_type": "markdown",
      "source": [
        "Zeroes and Ones in  a tensor"
      ],
      "metadata": {
        "id": "k75UvHhpMrjb"
      }
    },
    {
      "cell_type": "code",
      "source": [
        "zero = torch.zeros(3,4)"
      ],
      "metadata": {
        "id": "3h5s5InzMuVW"
      },
      "execution_count": 17,
      "outputs": []
    },
    {
      "cell_type": "code",
      "source": [
        "zero"
      ],
      "metadata": {
        "colab": {
          "base_uri": "https://localhost:8080/"
        },
        "id": "L1Rl5fTmMzTb",
        "outputId": "e9889174-8207-42a4-efa4-be66c92d66be"
      },
      "execution_count": 18,
      "outputs": [
        {
          "output_type": "execute_result",
          "data": {
            "text/plain": [
              "tensor([[0., 0., 0., 0.],\n",
              "        [0., 0., 0., 0.],\n",
              "        [0., 0., 0., 0.]])"
            ]
          },
          "metadata": {},
          "execution_count": 18
        }
      ]
    },
    {
      "cell_type": "code",
      "source": [
        "ones  = torch.ones(3,4)\n",
        "ones"
      ],
      "metadata": {
        "colab": {
          "base_uri": "https://localhost:8080/"
        },
        "id": "88L6zz6mM1gY",
        "outputId": "01eddac0-7839-4c65-ad6e-d59940a958fa"
      },
      "execution_count": 19,
      "outputs": [
        {
          "output_type": "execute_result",
          "data": {
            "text/plain": [
              "tensor([[1., 1., 1., 1.],\n",
              "        [1., 1., 1., 1.],\n",
              "        [1., 1., 1., 1.]])"
            ]
          },
          "metadata": {},
          "execution_count": 19
        }
      ]
    },
    {
      "cell_type": "code",
      "source": [
        "ones.dtype"
      ],
      "metadata": {
        "colab": {
          "base_uri": "https://localhost:8080/"
        },
        "id": "rM4ipE1zM_0r",
        "outputId": "32398a93-9a04-46b5-ad4d-721319cf3601"
      },
      "execution_count": 20,
      "outputs": [
        {
          "output_type": "execute_result",
          "data": {
            "text/plain": [
              "torch.float32"
            ]
          },
          "metadata": {},
          "execution_count": 20
        }
      ]
    },
    {
      "cell_type": "markdown",
      "source": [
        "Range of tensors"
      ],
      "metadata": {
        "id": "bFwkfKfuNUzg"
      }
    },
    {
      "cell_type": "code",
      "source": [
        "zero_to_ten=torch.arange(0,10)"
      ],
      "metadata": {
        "id": "Q9mYIhYZNGAi"
      },
      "execution_count": 21,
      "outputs": []
    },
    {
      "cell_type": "code",
      "source": [
        "ten_zeroes = torch.zeros_like(input=zero_to_ten)\n",
        "ten_zeroes"
      ],
      "metadata": {
        "colab": {
          "base_uri": "https://localhost:8080/"
        },
        "id": "Lq439m0sNbLm",
        "outputId": "9a05a581-9882-4347-d772-99ca63b4ff4d"
      },
      "execution_count": 22,
      "outputs": [
        {
          "output_type": "execute_result",
          "data": {
            "text/plain": [
              "tensor([0, 0, 0, 0, 0, 0, 0, 0, 0, 0])"
            ]
          },
          "metadata": {},
          "execution_count": 22
        }
      ]
    },
    {
      "cell_type": "code",
      "source": [
        "#tensor data types\n",
        "#float 32\n",
        "float_32_tensor = torch.tensor([3.,6.,9.])\n",
        "float_32_tensor"
      ],
      "metadata": {
        "colab": {
          "base_uri": "https://localhost:8080/"
        },
        "id": "49BeChhbOAKN",
        "outputId": "c0cd86fa-a544-4bb4-a050-d77f933773f3"
      },
      "execution_count": 23,
      "outputs": [
        {
          "output_type": "execute_result",
          "data": {
            "text/plain": [
              "tensor([3., 6., 9.])"
            ]
          },
          "metadata": {},
          "execution_count": 23
        }
      ]
    },
    {
      "cell_type": "code",
      "source": [
        "float_32_tensor.dtype"
      ],
      "metadata": {
        "colab": {
          "base_uri": "https://localhost:8080/"
        },
        "id": "Dez0UYA-O14V",
        "outputId": "011b1450-a697-4f9a-87f9-0958331d9c04"
      },
      "execution_count": 24,
      "outputs": [
        {
          "output_type": "execute_result",
          "data": {
            "text/plain": [
              "torch.float32"
            ]
          },
          "metadata": {},
          "execution_count": 24
        }
      ]
    },
    {
      "cell_type": "code",
      "source": [
        "some_tensor = torch.rand(3,4)"
      ],
      "metadata": {
        "id": "rwJxqQYRPNTY"
      },
      "execution_count": 25,
      "outputs": []
    },
    {
      "cell_type": "code",
      "source": [
        "some_tensor"
      ],
      "metadata": {
        "colab": {
          "base_uri": "https://localhost:8080/"
        },
        "id": "HIWK1DYcI5X9",
        "outputId": "7fb5c004-f950-423f-acba-d0e702bde3f9"
      },
      "execution_count": 26,
      "outputs": [
        {
          "output_type": "execute_result",
          "data": {
            "text/plain": [
              "tensor([[0.2525, 0.9390, 0.7767, 0.6353],\n",
              "        [0.3294, 0.7310, 0.7240, 0.1564],\n",
              "        [0.9134, 0.1697, 0.2814, 0.3151]])"
            ]
          },
          "metadata": {},
          "execution_count": 26
        }
      ]
    },
    {
      "cell_type": "code",
      "source": [
        "print(some_tensor)\n",
        "print(f\"Datatype of tensor: {some_tensor.dtype}\")\n",
        "print(f\"Shape of tensor: {some_tensor.shape}\")\n",
        "print(f\"Device tensor is on: {some_tensor.device}\")"
      ],
      "metadata": {
        "colab": {
          "base_uri": "https://localhost:8080/"
        },
        "id": "N5r6eeiEI8ds",
        "outputId": "1df04263-8403-4c19-faac-9e3d5eafc5d9"
      },
      "execution_count": 27,
      "outputs": [
        {
          "output_type": "stream",
          "name": "stdout",
          "text": [
            "tensor([[0.2525, 0.9390, 0.7767, 0.6353],\n",
            "        [0.3294, 0.7310, 0.7240, 0.1564],\n",
            "        [0.9134, 0.1697, 0.2814, 0.3151]])\n",
            "Datatype of tensor: torch.float32\n",
            "Shape of tensor: torch.Size([3, 4])\n",
            "Device tensor is on: cpu\n"
          ]
        }
      ]
    },
    {
      "cell_type": "markdown",
      "source": [
        "Manipulating Tensors\n",
        "*Tensor operations\n",
        "* Addition\n",
        "* Subtraction\n",
        "* Multiplication\n",
        "* Division\n",
        "* Matrix Multiplication"
      ],
      "metadata": {
        "id": "9Rsg4FrcJLbC"
      }
    },
    {
      "cell_type": "code",
      "source": [
        "#Create a tensor and add 10\n",
        "tensor = torch.tensor([1,2,3])\n",
        "tensor+10"
      ],
      "metadata": {
        "colab": {
          "base_uri": "https://localhost:8080/"
        },
        "id": "6XI7JGh1I_sx",
        "outputId": "7a5c1375-45d5-4b94-c2ea-e715bae615a5"
      },
      "execution_count": 28,
      "outputs": [
        {
          "output_type": "execute_result",
          "data": {
            "text/plain": [
              "tensor([11, 12, 13])"
            ]
          },
          "metadata": {},
          "execution_count": 28
        }
      ]
    },
    {
      "cell_type": "code",
      "source": [
        "#Multiplu tensor by 10\n",
        "tensor*10"
      ],
      "metadata": {
        "colab": {
          "base_uri": "https://localhost:8080/"
        },
        "id": "8b0bHlZBJEPT",
        "outputId": "09e43d42-b2ae-4087-803d-cf9c62c75ddc"
      },
      "execution_count": 29,
      "outputs": [
        {
          "output_type": "execute_result",
          "data": {
            "text/plain": [
              "tensor([10, 20, 30])"
            ]
          },
          "metadata": {},
          "execution_count": 29
        }
      ]
    },
    {
      "cell_type": "code",
      "source": [
        "#Subtract 10\n",
        "tensor-10"
      ],
      "metadata": {
        "colab": {
          "base_uri": "https://localhost:8080/"
        },
        "id": "bdiSPP5WJ3HS",
        "outputId": "e91fa1bc-abf5-4adb-b275-97beeebba860"
      },
      "execution_count": 30,
      "outputs": [
        {
          "output_type": "execute_result",
          "data": {
            "text/plain": [
              "tensor([-9, -8, -7])"
            ]
          },
          "metadata": {},
          "execution_count": 30
        }
      ]
    },
    {
      "cell_type": "code",
      "source": [
        "#multiplication using in built functions\n",
        "torch.mul(tensor,10)\n",
        "#torch.add(),torch.sub() etc...,"
      ],
      "metadata": {
        "colab": {
          "base_uri": "https://localhost:8080/"
        },
        "id": "Eg5_V4IIJ99-",
        "outputId": "585162ef-93a0-4784-8ed4-08d999f50114"
      },
      "execution_count": 31,
      "outputs": [
        {
          "output_type": "execute_result",
          "data": {
            "text/plain": [
              "tensor([10, 20, 30])"
            ]
          },
          "metadata": {},
          "execution_count": 31
        }
      ]
    },
    {
      "cell_type": "markdown",
      "source": [
        "Matrix Multiplication\n"
      ],
      "metadata": {
        "id": "dRlMenAxKuNJ"
      }
    },
    {
      "cell_type": "code",
      "source": [
        "print(\"element wise matrix multiplication\")\n",
        "print(tensor,\"*\",tensor)\n",
        "print(f\"Equals: {tensor*tensor}\")\n",
        "\n"
      ],
      "metadata": {
        "colab": {
          "base_uri": "https://localhost:8080/"
        },
        "id": "DX56BwEQKI8U",
        "outputId": "85f995a3-73a2-41d0-a34a-5fb74c236f56"
      },
      "execution_count": 32,
      "outputs": [
        {
          "output_type": "stream",
          "name": "stdout",
          "text": [
            "element wise matrix multiplication\n",
            "tensor([1, 2, 3]) * tensor([1, 2, 3])\n",
            "Equals: tensor([1, 4, 9])\n"
          ]
        }
      ]
    },
    {
      "cell_type": "code",
      "source": [
        "print(\"Matrix Multiplication\")\n",
        "print(tensor,\"*\",tensor)\n",
        "print(f\"Equals: {torch.matmul(tensor,tensor)}\")"
      ],
      "metadata": {
        "colab": {
          "base_uri": "https://localhost:8080/"
        },
        "id": "i-bpeyHyK4hA",
        "outputId": "4366f719-c745-4b2d-8963-4fb413753505"
      },
      "execution_count": 33,
      "outputs": [
        {
          "output_type": "stream",
          "name": "stdout",
          "text": [
            "Matrix Multiplication\n",
            "tensor([1, 2, 3]) * tensor([1, 2, 3])\n",
            "Equals: 14\n"
          ]
        }
      ]
    },
    {
      "cell_type": "code",
      "source": [],
      "metadata": {
        "id": "d4bgcl9dMLcs"
      },
      "execution_count": 33,
      "outputs": []
    },
    {
      "cell_type": "markdown",
      "source": [
        "min max mean sum etc\n"
      ],
      "metadata": {
        "id": "TkjQMIAzMaN2"
      }
    },
    {
      "cell_type": "code",
      "source": [
        "x = torch.arange(0,100,10)\n",
        "x,x.dtype"
      ],
      "metadata": {
        "colab": {
          "base_uri": "https://localhost:8080/"
        },
        "id": "Fe8nSdpyO-wv",
        "outputId": "767cce6f-b2ab-45db-f8d1-bfb6ef5dfa04"
      },
      "execution_count": 34,
      "outputs": [
        {
          "output_type": "execute_result",
          "data": {
            "text/plain": [
              "(tensor([ 0, 10, 20, 30, 40, 50, 60, 70, 80, 90]), torch.int64)"
            ]
          },
          "metadata": {},
          "execution_count": 34
        }
      ]
    },
    {
      "cell_type": "code",
      "source": [
        "torch.min(x),x.min()"
      ],
      "metadata": {
        "colab": {
          "base_uri": "https://localhost:8080/"
        },
        "id": "Z1ZBL6PwPB_w",
        "outputId": "06018466-ca73-4e2f-e1ce-7e251989b015"
      },
      "execution_count": 35,
      "outputs": [
        {
          "output_type": "execute_result",
          "data": {
            "text/plain": [
              "(tensor(0), tensor(0))"
            ]
          },
          "metadata": {},
          "execution_count": 35
        }
      ]
    },
    {
      "cell_type": "code",
      "source": [
        "torch.max(x),x.max()"
      ],
      "metadata": {
        "colab": {
          "base_uri": "https://localhost:8080/"
        },
        "id": "sZWWpfNnPFr8",
        "outputId": "20ce21d2-4f24-4f54-db37-d5f6cc68fbe6"
      },
      "execution_count": 36,
      "outputs": [
        {
          "output_type": "execute_result",
          "data": {
            "text/plain": [
              "(tensor(90), tensor(90))"
            ]
          },
          "metadata": {},
          "execution_count": 36
        }
      ]
    },
    {
      "cell_type": "code",
      "source": [
        "#torch.mean() requires a tensor of float 32\n",
        "torch.mean(x.type(torch.float32)),x.type(torch.float32).mean()"
      ],
      "metadata": {
        "colab": {
          "base_uri": "https://localhost:8080/"
        },
        "id": "hlbhZ_krPITM",
        "outputId": "a8557abe-4177-4ab8-bc46-adbbe1e200bf"
      },
      "execution_count": 37,
      "outputs": [
        {
          "output_type": "execute_result",
          "data": {
            "text/plain": [
              "(tensor(45.), tensor(45.))"
            ]
          },
          "metadata": {},
          "execution_count": 37
        }
      ]
    },
    {
      "cell_type": "code",
      "source": [
        "x.dtype, torch.sum(x),x.sum() #sum works for int 64 whereas mean doesnt"
      ],
      "metadata": {
        "colab": {
          "base_uri": "https://localhost:8080/"
        },
        "id": "AO4c6E_1PNxN",
        "outputId": "c1483a13-41eb-44b0-8f64-c6cf2ed70f30"
      },
      "execution_count": 38,
      "outputs": [
        {
          "output_type": "execute_result",
          "data": {
            "text/plain": [
              "(torch.int64, tensor(450), tensor(450))"
            ]
          },
          "metadata": {},
          "execution_count": 38
        }
      ]
    },
    {
      "cell_type": "code",
      "source": [],
      "metadata": {
        "id": "72xRMwWuPvia"
      },
      "execution_count": 38,
      "outputs": []
    },
    {
      "cell_type": "markdown",
      "source": [
        "Finding the positional min and max"
      ],
      "metadata": {
        "id": "4InQuLwPIg7Q"
      }
    },
    {
      "cell_type": "code",
      "source": [
        "x.argmin(),x.argmax()"
      ],
      "metadata": {
        "colab": {
          "base_uri": "https://localhost:8080/"
        },
        "id": "rmdqWYsqIjmF",
        "outputId": "c19c4858-88bf-40f0-86b6-60e90b0c57a4"
      },
      "execution_count": 39,
      "outputs": [
        {
          "output_type": "execute_result",
          "data": {
            "text/plain": [
              "(tensor(0), tensor(9))"
            ]
          },
          "metadata": {},
          "execution_count": 39
        }
      ]
    },
    {
      "cell_type": "code",
      "source": [
        "\n",
        "x = torch.arange(1.,10.)\n",
        "x, x.shape\n"
      ],
      "metadata": {
        "colab": {
          "base_uri": "https://localhost:8080/"
        },
        "id": "7U2ZeVfyIrB9",
        "outputId": "48d0d5e1-c7d7-42d0-fc10-cf22a73f6314"
      },
      "execution_count": 40,
      "outputs": [
        {
          "output_type": "execute_result",
          "data": {
            "text/plain": [
              "(tensor([1., 2., 3., 4., 5., 6., 7., 8., 9.]), torch.Size([9]))"
            ]
          },
          "metadata": {},
          "execution_count": 40
        }
      ]
    },
    {
      "cell_type": "code",
      "source": [
        "x_reshaped = x.reshape(3,3)\n",
        "x_reshaped,x_reshaped.shape"
      ],
      "metadata": {
        "colab": {
          "base_uri": "https://localhost:8080/"
        },
        "id": "arU4Tbv4K8l-",
        "outputId": "09a8708f-f893-4792-e961-edb200681418"
      },
      "execution_count": 41,
      "outputs": [
        {
          "output_type": "execute_result",
          "data": {
            "text/plain": [
              "(tensor([[1., 2., 3.],\n",
              "         [4., 5., 6.],\n",
              "         [7., 8., 9.]]),\n",
              " torch.Size([3, 3]))"
            ]
          },
          "metadata": {},
          "execution_count": 41
        }
      ]
    },
    {
      "cell_type": "code",
      "source": [
        "#view is more like a reeference to the tensor, if we change the view of a tensor the original tensor changes too"
      ],
      "metadata": {
        "id": "tpq-JTUELqgv"
      },
      "execution_count": 42,
      "outputs": []
    },
    {
      "cell_type": "code",
      "source": [
        "z = x.view(3,3)\n",
        "z,z.shape #same memory as original"
      ],
      "metadata": {
        "colab": {
          "base_uri": "https://localhost:8080/"
        },
        "id": "XTn2mS4tMLJR",
        "outputId": "5a91c8a6-ec14-40c0-be4b-7b3509426ab6"
      },
      "execution_count": 43,
      "outputs": [
        {
          "output_type": "execute_result",
          "data": {
            "text/plain": [
              "(tensor([[1., 2., 3.],\n",
              "         [4., 5., 6.],\n",
              "         [7., 8., 9.]]),\n",
              " torch.Size([3, 3]))"
            ]
          },
          "metadata": {},
          "execution_count": 43
        }
      ]
    },
    {
      "cell_type": "code",
      "source": [
        "z[:,0] = 5\n",
        "z,x"
      ],
      "metadata": {
        "colab": {
          "base_uri": "https://localhost:8080/"
        },
        "id": "Ssv_18CeMNwD",
        "outputId": "a940a2c7-798a-45d0-9ffe-a0936e5d67d0"
      },
      "execution_count": 44,
      "outputs": [
        {
          "output_type": "execute_result",
          "data": {
            "text/plain": [
              "(tensor([[5., 2., 3.],\n",
              "         [5., 5., 6.],\n",
              "         [5., 8., 9.]]),\n",
              " tensor([5., 2., 3., 5., 5., 6., 5., 8., 9.]))"
            ]
          },
          "metadata": {},
          "execution_count": 44
        }
      ]
    },
    {
      "cell_type": "code",
      "source": [
        "#stack tensors on top\n",
        "x_stacked = torch.stack([x,x,x,x],dim=0)\n",
        "x_stacked"
      ],
      "metadata": {
        "colab": {
          "base_uri": "https://localhost:8080/"
        },
        "id": "rp7v9dpGMP4w",
        "outputId": "b1f4489c-e4e7-4b90-8961-7c4805aed7c1"
      },
      "execution_count": 45,
      "outputs": [
        {
          "output_type": "execute_result",
          "data": {
            "text/plain": [
              "tensor([[5., 2., 3., 5., 5., 6., 5., 8., 9.],\n",
              "        [5., 2., 3., 5., 5., 6., 5., 8., 9.],\n",
              "        [5., 2., 3., 5., 5., 6., 5., 8., 9.],\n",
              "        [5., 2., 3., 5., 5., 6., 5., 8., 9.]])"
            ]
          },
          "metadata": {},
          "execution_count": 45
        }
      ]
    },
    {
      "cell_type": "code",
      "source": [
        "#squeeze and unsqueeze\n",
        "#torch.squeeze() -  removes all single dimensions from a target tensor\n",
        "x= torch.zeros(2,1,2,1,2)\n",
        "y = torch.squeeze(x)\n",
        "x.size(),y.size()"
      ],
      "metadata": {
        "colab": {
          "base_uri": "https://localhost:8080/"
        },
        "id": "3Ob4dWtBMhnz",
        "outputId": "9b768bfd-aefa-46cf-9212-eaf670311474"
      },
      "execution_count": 46,
      "outputs": [
        {
          "output_type": "execute_result",
          "data": {
            "text/plain": [
              "(torch.Size([2, 1, 2, 1, 2]), torch.Size([2, 2, 2]))"
            ]
          },
          "metadata": {},
          "execution_count": 46
        }
      ]
    },
    {
      "cell_type": "code",
      "source": [
        "y=torch.squeeze(x,0)\n",
        "y.size()"
      ],
      "metadata": {
        "colab": {
          "base_uri": "https://localhost:8080/"
        },
        "id": "7jm5GPxeNWWt",
        "outputId": "ca6d9af5-b326-4483-c00d-63935dc775f4"
      },
      "execution_count": 47,
      "outputs": [
        {
          "output_type": "execute_result",
          "data": {
            "text/plain": [
              "torch.Size([2, 1, 2, 1, 2])"
            ]
          },
          "metadata": {},
          "execution_count": 47
        }
      ]
    },
    {
      "cell_type": "code",
      "source": [
        "y=torch.squeeze(x,1)\n",
        "y.size()"
      ],
      "metadata": {
        "colab": {
          "base_uri": "https://localhost:8080/"
        },
        "id": "oKXTRNKNNds1",
        "outputId": "a7cf8562-256a-4990-d2e0-73e81538cd15"
      },
      "execution_count": 48,
      "outputs": [
        {
          "output_type": "execute_result",
          "data": {
            "text/plain": [
              "torch.Size([2, 2, 1, 2])"
            ]
          },
          "metadata": {},
          "execution_count": 48
        }
      ]
    },
    {
      "cell_type": "code",
      "source": [
        "y=torch.unsqueeze(x,2)\n",
        "y.size()\n",
        "#extra dimension at 2 of 1"
      ],
      "metadata": {
        "colab": {
          "base_uri": "https://localhost:8080/"
        },
        "id": "2kSly54SNiVZ",
        "outputId": "1a225ee6-6363-4b31-a0de-cd93a0af4459"
      },
      "execution_count": 49,
      "outputs": [
        {
          "output_type": "execute_result",
          "data": {
            "text/plain": [
              "torch.Size([2, 1, 1, 2, 1, 2])"
            ]
          },
          "metadata": {},
          "execution_count": 49
        }
      ]
    },
    {
      "cell_type": "code",
      "source": [
        "x_original = torch.rand(size=(224,224,3))\n",
        "x_permuted = x_original.permute(2,0,1)\n",
        "x_original.shape,x_permuted.shape"
      ],
      "metadata": {
        "id": "GOdYCYcxOfms",
        "colab": {
          "base_uri": "https://localhost:8080/"
        },
        "outputId": "4a859fcd-d2b0-4e22-be7f-80f6d06d1154"
      },
      "execution_count": 50,
      "outputs": [
        {
          "output_type": "execute_result",
          "data": {
            "text/plain": [
              "(torch.Size([224, 224, 3]), torch.Size([3, 224, 224]))"
            ]
          },
          "metadata": {},
          "execution_count": 50
        }
      ]
    },
    {
      "cell_type": "code",
      "source": [
        "#indexing with Pytorch\n"
      ],
      "metadata": {
        "id": "EqEXZ44Ih1cf"
      },
      "execution_count": 51,
      "outputs": []
    },
    {
      "cell_type": "code",
      "source": [
        "import torch\n",
        "x = torch.arange(1,10).reshape(1,3,3)\n",
        "x,x.shape"
      ],
      "metadata": {
        "colab": {
          "base_uri": "https://localhost:8080/"
        },
        "id": "OFCGstlFh4hd",
        "outputId": "78406b36-361b-41ae-caf9-92353ac0c541"
      },
      "execution_count": 52,
      "outputs": [
        {
          "output_type": "execute_result",
          "data": {
            "text/plain": [
              "(tensor([[[1, 2, 3],\n",
              "          [4, 5, 6],\n",
              "          [7, 8, 9]]]),\n",
              " torch.Size([1, 3, 3]))"
            ]
          },
          "metadata": {},
          "execution_count": 52
        }
      ]
    },
    {
      "cell_type": "code",
      "source": [
        "x[0]"
      ],
      "metadata": {
        "colab": {
          "base_uri": "https://localhost:8080/"
        },
        "id": "QL-AzNBSiqb0",
        "outputId": "376ab073-70d2-40fd-f5f9-f6307adff1e0"
      },
      "execution_count": 53,
      "outputs": [
        {
          "output_type": "execute_result",
          "data": {
            "text/plain": [
              "tensor([[1, 2, 3],\n",
              "        [4, 5, 6],\n",
              "        [7, 8, 9]])"
            ]
          },
          "metadata": {},
          "execution_count": 53
        }
      ]
    },
    {
      "cell_type": "code",
      "source": [
        "x[0][2]"
      ],
      "metadata": {
        "colab": {
          "base_uri": "https://localhost:8080/"
        },
        "id": "6QKno8WDjAzb",
        "outputId": "d05356a2-78f9-4db2-da2a-f8ceec7c44e3"
      },
      "execution_count": 54,
      "outputs": [
        {
          "output_type": "execute_result",
          "data": {
            "text/plain": [
              "tensor([7, 8, 9])"
            ]
          },
          "metadata": {},
          "execution_count": 54
        }
      ]
    },
    {
      "cell_type": "code",
      "source": [
        "\n",
        "x[0][2][2]"
      ],
      "metadata": {
        "colab": {
          "base_uri": "https://localhost:8080/"
        },
        "id": "AvXC-T_Biujq",
        "outputId": "c6476c37-be04-48c6-831c-5acf3c7c43ca"
      },
      "execution_count": 55,
      "outputs": [
        {
          "output_type": "execute_result",
          "data": {
            "text/plain": [
              "tensor(9)"
            ]
          },
          "metadata": {},
          "execution_count": 55
        }
      ]
    },
    {
      "cell_type": "markdown",
      "source": [
        "Pytorch and Numpy"
      ],
      "metadata": {
        "id": "ibcGQotNkK2C"
      }
    },
    {
      "cell_type": "code",
      "source": [
        "import numpy as np\n",
        "import torch\n",
        "array = np.arange(1.0,8.0)\n",
        "tensor = torch.from_numpy(array)\n",
        "array,tensor"
      ],
      "metadata": {
        "colab": {
          "base_uri": "https://localhost:8080/"
        },
        "id": "0srHixwxiyIX",
        "outputId": "8bd03175-c3ad-4172-a3e3-8a952d43377b"
      },
      "execution_count": 56,
      "outputs": [
        {
          "output_type": "execute_result",
          "data": {
            "text/plain": [
              "(array([1., 2., 3., 4., 5., 6., 7.]),\n",
              " tensor([1., 2., 3., 4., 5., 6., 7.], dtype=torch.float64))"
            ]
          },
          "metadata": {},
          "execution_count": 56
        }
      ]
    },
    {
      "cell_type": "code",
      "source": [
        "tensor = torch.ones(7)\n",
        "numpy_tensor = tensor.numpy()\n",
        "tensor,numpy_tensor"
      ],
      "metadata": {
        "colab": {
          "base_uri": "https://localhost:8080/"
        },
        "id": "LMgboIDhkYTC",
        "outputId": "ff975195-879c-42b9-b0ef-ef59a887eb95"
      },
      "execution_count": 57,
      "outputs": [
        {
          "output_type": "execute_result",
          "data": {
            "text/plain": [
              "(tensor([1., 1., 1., 1., 1., 1., 1.]),\n",
              " array([1., 1., 1., 1., 1., 1., 1.], dtype=float32))"
            ]
          },
          "metadata": {},
          "execution_count": 57
        }
      ]
    },
    {
      "cell_type": "code",
      "source": [
        "# Reproducibility (trying to take random out of random)"
      ],
      "metadata": {
        "id": "a0h8_AohlAPm"
      },
      "execution_count": 58,
      "outputs": []
    },
    {
      "cell_type": "code",
      "source": [
        "#seeding for random to get same random values\n",
        "import torch\n",
        "RANDOM_SEED = 42\n",
        "torch.manual_seed(RANDOM_SEED)\n",
        "\n",
        "r_t_c = torch.rand(3,4)\n",
        "torch.manual_seed(RANDOM_SEED)\n",
        "r_t_d = torch.rand(3,4)\n",
        "print(r_t_c)\n",
        "print(r_t_d)\n",
        "print(r_t_c == r_t_d)"
      ],
      "metadata": {
        "colab": {
          "base_uri": "https://localhost:8080/"
        },
        "id": "_LGeI4KMla_E",
        "outputId": "adc922ed-117d-4ca0-d8d2-7d5524686fe9"
      },
      "execution_count": 59,
      "outputs": [
        {
          "output_type": "stream",
          "name": "stdout",
          "text": [
            "tensor([[0.8823, 0.9150, 0.3829, 0.9593],\n",
            "        [0.3904, 0.6009, 0.2566, 0.7936],\n",
            "        [0.9408, 0.1332, 0.9346, 0.5936]])\n",
            "tensor([[0.8823, 0.9150, 0.3829, 0.9593],\n",
            "        [0.3904, 0.6009, 0.2566, 0.7936],\n",
            "        [0.9408, 0.1332, 0.9346, 0.5936]])\n",
            "tensor([[True, True, True, True],\n",
            "        [True, True, True, True],\n",
            "        [True, True, True, True]])\n"
          ]
        }
      ]
    },
    {
      "cell_type": "code",
      "source": [
        "#runing on gpu\n",
        "torch.cuda.is_available()\n"
      ],
      "metadata": {
        "colab": {
          "base_uri": "https://localhost:8080/"
        },
        "id": "C_XLbiTVsciR",
        "outputId": "1a856fb8-29de-42fd-9722-0d8fa611b279"
      },
      "execution_count": 60,
      "outputs": [
        {
          "output_type": "execute_result",
          "data": {
            "text/plain": [
              "True"
            ]
          },
          "metadata": {},
          "execution_count": 60
        }
      ]
    },
    {
      "cell_type": "code",
      "source": [
        "device =\"cuda\" if torch.cuda.is_available() else \"cpu\"\n",
        "device"
      ],
      "metadata": {
        "colab": {
          "base_uri": "https://localhost:8080/",
          "height": 36
        },
        "id": "riEwxsfYuj4a",
        "outputId": "94d2de76-0552-4d9a-bb89-f4b9b33520fc"
      },
      "execution_count": 61,
      "outputs": [
        {
          "output_type": "execute_result",
          "data": {
            "text/plain": [
              "'cuda'"
            ],
            "application/vnd.google.colaboratory.intrinsic+json": {
              "type": "string"
            }
          },
          "metadata": {},
          "execution_count": 61
        }
      ]
    },
    {
      "cell_type": "code",
      "source": [
        "!nvidia-smi\n"
      ],
      "metadata": {
        "colab": {
          "base_uri": "https://localhost:8080/"
        },
        "id": "qv4etTF4u8L3",
        "outputId": "7ed0843e-feaf-4bbe-8b9e-ecf1c5215486"
      },
      "execution_count": 62,
      "outputs": [
        {
          "output_type": "stream",
          "name": "stdout",
          "text": [
            "Wed Sep 25 05:58:32 2024       \n",
            "+---------------------------------------------------------------------------------------+\n",
            "| NVIDIA-SMI 535.104.05             Driver Version: 535.104.05   CUDA Version: 12.2     |\n",
            "|-----------------------------------------+----------------------+----------------------+\n",
            "| GPU  Name                 Persistence-M | Bus-Id        Disp.A | Volatile Uncorr. ECC |\n",
            "| Fan  Temp   Perf          Pwr:Usage/Cap |         Memory-Usage | GPU-Util  Compute M. |\n",
            "|                                         |                      |               MIG M. |\n",
            "|=========================================+======================+======================|\n",
            "|   0  Tesla T4                       Off | 00000000:00:04.0 Off |                    0 |\n",
            "| N/A   47C    P8              12W /  70W |      3MiB / 15360MiB |      0%      Default |\n",
            "|                                         |                      |                  N/A |\n",
            "+-----------------------------------------+----------------------+----------------------+\n",
            "                                                                                         \n",
            "+---------------------------------------------------------------------------------------+\n",
            "| Processes:                                                                            |\n",
            "|  GPU   GI   CI        PID   Type   Process name                            GPU Memory |\n",
            "|        ID   ID                                                             Usage      |\n",
            "|=======================================================================================|\n",
            "|  No running processes found                                                           |\n",
            "+---------------------------------------------------------------------------------------+\n"
          ]
        }
      ]
    },
    {
      "cell_type": "code",
      "source": [
        "torch.cuda.device_count()"
      ],
      "metadata": {
        "colab": {
          "base_uri": "https://localhost:8080/"
        },
        "id": "uobRGYjZvCRJ",
        "outputId": "d3296288-864b-4225-e67a-6a57eac4b17f"
      },
      "execution_count": 63,
      "outputs": [
        {
          "output_type": "execute_result",
          "data": {
            "text/plain": [
              "1"
            ]
          },
          "metadata": {},
          "execution_count": 63
        }
      ]
    },
    {
      "cell_type": "markdown",
      "source": [],
      "metadata": {
        "id": "_2fGILaMvmEl"
      }
    },
    {
      "cell_type": "markdown",
      "source": [
        "Always set up device agnostic code, can find it by a single search\n"
      ],
      "metadata": {
        "id": "EVKlMqtlvfrr"
      }
    },
    {
      "cell_type": "code",
      "source": [
        "tensor =  torch.tensor([1,2,3])\n",
        "print(tensor,tensor.device)"
      ],
      "metadata": {
        "colab": {
          "base_uri": "https://localhost:8080/"
        },
        "id": "vko5tEDjvO47",
        "outputId": "a805eea1-0bd3-4b39-dd70-ff1a6f3287e6"
      },
      "execution_count": 64,
      "outputs": [
        {
          "output_type": "stream",
          "name": "stdout",
          "text": [
            "tensor([1, 2, 3]) cpu\n"
          ]
        }
      ]
    },
    {
      "cell_type": "code",
      "source": [
        "#move to gpu if available\n",
        "tensor_on_gpu = tensor.to(device)\n",
        "tensor_on_gpu"
      ],
      "metadata": {
        "colab": {
          "base_uri": "https://localhost:8080/"
        },
        "id": "QWc_VsSlwR8y",
        "outputId": "4bcff890-4cd6-4f90-f368-ab40848ef92c"
      },
      "execution_count": 65,
      "outputs": [
        {
          "output_type": "execute_result",
          "data": {
            "text/plain": [
              "tensor([1, 2, 3], device='cuda:0')"
            ]
          },
          "metadata": {},
          "execution_count": 65
        }
      ]
    },
    {
      "cell_type": "code",
      "source": [
        "#move back to cpu\n",
        "tensor_back_on_cpu = tensor_on_gpu.cpu().numpy()\n",
        "tensor_back_on_cpu"
      ],
      "metadata": {
        "colab": {
          "base_uri": "https://localhost:8080/"
        },
        "id": "3EMvyBI2waZV",
        "outputId": "84d18560-228e-4fc8-df53-5a3c163271ea"
      },
      "execution_count": 66,
      "outputs": [
        {
          "output_type": "execute_result",
          "data": {
            "text/plain": [
              "array([1, 2, 3])"
            ]
          },
          "metadata": {},
          "execution_count": 66
        }
      ]
    },
    {
      "cell_type": "code",
      "source": [],
      "metadata": {
        "id": "rdM4ZfXBw97t"
      },
      "execution_count": null,
      "outputs": []
    }
  ]
}