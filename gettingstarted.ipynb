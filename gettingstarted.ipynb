{
  "nbformat": 4,
  "nbformat_minor": 0,
  "metadata": {
    "colab": {
      "provenance": [],
      "authorship_tag": "ABX9TyOHeQPV60eD4WByxlnzTR3c",
      "include_colab_link": true
    },
    "kernelspec": {
      "name": "python3",
      "display_name": "Python 3"
    },
    "language_info": {
      "name": "python"
    }
  },
  "cells": [
    {
      "cell_type": "markdown",
      "metadata": {
        "id": "view-in-github",
        "colab_type": "text"
      },
      "source": [
        "<a href=\"https://colab.research.google.com/github/udaykiran2427/Learning-Pytorch/blob/main/gettingstarted.ipynb\" target=\"_parent\"><img src=\"https://colab.research.google.com/assets/colab-badge.svg\" alt=\"Open In Colab\"/></a>"
      ]
    },
    {
      "cell_type": "markdown",
      "source": [
        "Fundamentals\n"
      ],
      "metadata": {
        "id": "LiovibPjHSqq"
      }
    },
    {
      "cell_type": "code",
      "source": [
        "import torch\n",
        "import pandas as pd\n",
        "import numpy as np\n",
        "import matplotlib.pyplot as plt\n",
        "print(torch.__version__)"
      ],
      "metadata": {
        "colab": {
          "base_uri": "https://localhost:8080/"
        },
        "id": "WYQGwQQaF97u",
        "outputId": "6d136274-0723-43e2-8b66-494fe1b062f3"
      },
      "execution_count": 1,
      "outputs": [
        {
          "output_type": "stream",
          "name": "stdout",
          "text": [
            "2.4.1+cu121\n"
          ]
        }
      ]
    },
    {
      "cell_type": "code",
      "execution_count": 2,
      "metadata": {
        "colab": {
          "base_uri": "https://localhost:8080/"
        },
        "id": "pjo6gAY-Fyhe",
        "outputId": "62a2b3b6-6e92-4363-e37b-0e4283af02fa"
      },
      "outputs": [
        {
          "output_type": "execute_result",
          "data": {
            "text/plain": [
              "0"
            ]
          },
          "metadata": {},
          "execution_count": 2
        }
      ],
      "source": [
        "# creating tensors\n",
        "#scalar\n",
        "scalar = torch.tensor(7)\n",
        "scalar\n",
        "scalar.ndim\n"
      ]
    },
    {
      "cell_type": "markdown",
      "source": [
        "# New section"
      ],
      "metadata": {
        "id": "RlaDnpnyGOlV"
      }
    },
    {
      "cell_type": "code",
      "source": [
        "scalar.item()"
      ],
      "metadata": {
        "colab": {
          "base_uri": "https://localhost:8080/"
        },
        "id": "cI2qCc-4F-ch",
        "outputId": "e32adbbf-d994-453a-f6f8-860ad3104a88"
      },
      "execution_count": 3,
      "outputs": [
        {
          "output_type": "execute_result",
          "data": {
            "text/plain": [
              "7"
            ]
          },
          "metadata": {},
          "execution_count": 3
        }
      ]
    },
    {
      "cell_type": "code",
      "source": [
        "vector = torch.tensor([7,7])\n",
        "vector"
      ],
      "metadata": {
        "colab": {
          "base_uri": "https://localhost:8080/"
        },
        "id": "x7QepCMXIva5",
        "outputId": "394a95f3-c376-44b9-a055-533e5ba0ecbe"
      },
      "execution_count": 4,
      "outputs": [
        {
          "output_type": "execute_result",
          "data": {
            "text/plain": [
              "tensor([7, 7])"
            ]
          },
          "metadata": {},
          "execution_count": 4
        }
      ]
    },
    {
      "cell_type": "code",
      "source": [
        "vector.shape\n",
        "vector.ndim"
      ],
      "metadata": {
        "colab": {
          "base_uri": "https://localhost:8080/"
        },
        "id": "SdRekfXdI3q_",
        "outputId": "17a176f5-00aa-4445-e4f2-f61e58cccfc0"
      },
      "execution_count": 5,
      "outputs": [
        {
          "output_type": "execute_result",
          "data": {
            "text/plain": [
              "1"
            ]
          },
          "metadata": {},
          "execution_count": 5
        }
      ]
    },
    {
      "cell_type": "code",
      "source": [
        "#Creating a MATRIX\n",
        "MAT = torch.tensor([[7,8],[1,2]])\n",
        "MAT"
      ],
      "metadata": {
        "colab": {
          "base_uri": "https://localhost:8080/"
        },
        "id": "1FAk7M21JAIr",
        "outputId": "363f0bff-e44c-491b-9d16-df5786fb11b6"
      },
      "execution_count": 6,
      "outputs": [
        {
          "output_type": "execute_result",
          "data": {
            "text/plain": [
              "tensor([[7, 8],\n",
              "        [1, 2]])"
            ]
          },
          "metadata": {},
          "execution_count": 6
        }
      ]
    },
    {
      "cell_type": "code",
      "source": [
        "MAT.ndim\n"
      ],
      "metadata": {
        "colab": {
          "base_uri": "https://localhost:8080/"
        },
        "id": "hDb10mkmJLfS",
        "outputId": "691fd3fc-0518-47d6-e993-6bae1cccbd56"
      },
      "execution_count": 7,
      "outputs": [
        {
          "output_type": "execute_result",
          "data": {
            "text/plain": [
              "2"
            ]
          },
          "metadata": {},
          "execution_count": 7
        }
      ]
    },
    {
      "cell_type": "code",
      "source": [
        "MAT.shape"
      ],
      "metadata": {
        "colab": {
          "base_uri": "https://localhost:8080/"
        },
        "id": "9_-6w-jhJYze",
        "outputId": "5b9274f3-c249-4e4b-a121-623736fa3477"
      },
      "execution_count": 8,
      "outputs": [
        {
          "output_type": "execute_result",
          "data": {
            "text/plain": [
              "torch.Size([2, 2])"
            ]
          },
          "metadata": {},
          "execution_count": 8
        }
      ]
    },
    {
      "cell_type": "code",
      "source": [
        "TENSOR = torch.tensor([[[1,2,3],[4,5,6],[7,8,9]]])"
      ],
      "metadata": {
        "id": "aWjOcWaiJo5l"
      },
      "execution_count": 9,
      "outputs": []
    },
    {
      "cell_type": "code",
      "source": [
        "TENSOR"
      ],
      "metadata": {
        "colab": {
          "base_uri": "https://localhost:8080/"
        },
        "id": "zWXO3qR8J44Z",
        "outputId": "6e37b653-dfea-422d-b0b8-f0225bc19524"
      },
      "execution_count": 10,
      "outputs": [
        {
          "output_type": "execute_result",
          "data": {
            "text/plain": [
              "tensor([[[1, 2, 3],\n",
              "         [4, 5, 6],\n",
              "         [7, 8, 9]]])"
            ]
          },
          "metadata": {},
          "execution_count": 10
        }
      ]
    },
    {
      "cell_type": "code",
      "source": [
        "TENSOR.shape"
      ],
      "metadata": {
        "colab": {
          "base_uri": "https://localhost:8080/"
        },
        "id": "W-iio5DoJ8W4",
        "outputId": "6062be6c-28cd-4731-97ce-2d20f15b430c"
      },
      "execution_count": 11,
      "outputs": [
        {
          "output_type": "execute_result",
          "data": {
            "text/plain": [
              "torch.Size([1, 3, 3])"
            ]
          },
          "metadata": {},
          "execution_count": 11
        }
      ]
    },
    {
      "cell_type": "code",
      "source": [
        "TENSOR.ndim"
      ],
      "metadata": {
        "colab": {
          "base_uri": "https://localhost:8080/"
        },
        "id": "PjHWh7zaJ_Zp",
        "outputId": "75e7732b-eb2e-401e-ca47-7b37a32e969c"
      },
      "execution_count": 12,
      "outputs": [
        {
          "output_type": "execute_result",
          "data": {
            "text/plain": [
              "3"
            ]
          },
          "metadata": {},
          "execution_count": 12
        }
      ]
    },
    {
      "cell_type": "code",
      "source": [
        "##Scalars and vectors in lower case, Matrix and Tensors in uppercase, for naming"
      ],
      "metadata": {
        "id": "yu5v96kzKBfL"
      },
      "execution_count": 13,
      "outputs": []
    },
    {
      "cell_type": "markdown",
      "source": [
        "###Random Tensors"
      ],
      "metadata": {
        "id": "lcRNZckwLB4A"
      }
    },
    {
      "cell_type": "code",
      "source": [
        "random_tensor = torch.rand(3,4)\n",
        "random_tensor"
      ],
      "metadata": {
        "colab": {
          "base_uri": "https://localhost:8080/"
        },
        "id": "0QQI4sE2LD8V",
        "outputId": "4dced77c-2fc3-46f3-e1cc-9ddd4ac866f7"
      },
      "execution_count": 14,
      "outputs": [
        {
          "output_type": "execute_result",
          "data": {
            "text/plain": [
              "tensor([[0.7713, 0.1973, 0.0198, 0.8793],\n",
              "        [0.8566, 0.2685, 0.1898, 0.2736],\n",
              "        [0.1752, 0.5313, 0.5146, 0.4658]])"
            ]
          },
          "metadata": {},
          "execution_count": 14
        }
      ]
    },
    {
      "cell_type": "code",
      "source": [
        "image_sz_tensor = torch.rand(size=(224,224,3))\n",
        "image_sz_tensor"
      ],
      "metadata": {
        "colab": {
          "base_uri": "https://localhost:8080/"
        },
        "id": "cobo5DfELXPy",
        "outputId": "71171388-ac02-4d21-b5ba-436182ddad54"
      },
      "execution_count": 15,
      "outputs": [
        {
          "output_type": "execute_result",
          "data": {
            "text/plain": [
              "tensor([[[0.8925, 0.6640, 0.9616],\n",
              "         [0.3365, 0.4952, 0.0076],\n",
              "         [0.8604, 0.9723, 0.0489],\n",
              "         ...,\n",
              "         [0.9388, 0.3779, 0.4998],\n",
              "         [0.1867, 0.9961, 0.2313],\n",
              "         [0.6532, 0.5264, 0.3604]],\n",
              "\n",
              "        [[0.7366, 0.9214, 0.3283],\n",
              "         [0.6719, 0.6109, 0.8057],\n",
              "         [0.3606, 0.2224, 0.0175],\n",
              "         ...,\n",
              "         [0.0806, 0.5168, 0.7241],\n",
              "         [0.7118, 0.8405, 0.1103],\n",
              "         [0.1248, 0.1884, 0.0876]],\n",
              "\n",
              "        [[0.1276, 0.8055, 0.8247],\n",
              "         [0.3081, 0.1347, 0.8636],\n",
              "         [0.8895, 0.4844, 0.3839],\n",
              "         ...,\n",
              "         [0.7209, 0.2814, 0.6528],\n",
              "         [0.0663, 0.4160, 0.2575],\n",
              "         [0.0135, 0.5701, 0.0635]],\n",
              "\n",
              "        ...,\n",
              "\n",
              "        [[0.9586, 0.5018, 0.9881],\n",
              "         [0.4465, 0.2082, 0.4295],\n",
              "         [0.3865, 0.9650, 0.5945],\n",
              "         ...,\n",
              "         [0.7696, 0.9036, 0.4457],\n",
              "         [0.4272, 0.6345, 0.2481],\n",
              "         [0.8879, 0.3546, 0.8539]],\n",
              "\n",
              "        [[0.0784, 0.7116, 0.3556],\n",
              "         [0.1406, 0.8326, 0.8888],\n",
              "         [0.2725, 0.2824, 0.2708],\n",
              "         ...,\n",
              "         [0.4497, 0.6304, 0.7252],\n",
              "         [0.6576, 0.5285, 0.1942],\n",
              "         [0.6793, 0.2013, 0.0447]],\n",
              "\n",
              "        [[0.6513, 0.0306, 0.8413],\n",
              "         [0.9036, 0.2671, 0.7955],\n",
              "         [0.0821, 0.3049, 0.2127],\n",
              "         ...,\n",
              "         [0.1639, 0.1286, 0.6015],\n",
              "         [0.6276, 0.5024, 0.8960],\n",
              "         [0.8108, 0.4904, 0.4111]]])"
            ]
          },
          "metadata": {},
          "execution_count": 15
        }
      ]
    },
    {
      "cell_type": "code",
      "source": [
        "image_sz_tensor.shape"
      ],
      "metadata": {
        "colab": {
          "base_uri": "https://localhost:8080/"
        },
        "id": "dMIscnwjL-Hc",
        "outputId": "082a499c-980d-4ad0-d7d9-5a4841562133"
      },
      "execution_count": 16,
      "outputs": [
        {
          "output_type": "execute_result",
          "data": {
            "text/plain": [
              "torch.Size([224, 224, 3])"
            ]
          },
          "metadata": {},
          "execution_count": 16
        }
      ]
    },
    {
      "cell_type": "code",
      "source": [],
      "metadata": {
        "id": "KelncauFMSdr"
      },
      "execution_count": 16,
      "outputs": []
    },
    {
      "cell_type": "markdown",
      "source": [
        "Zeroes and Ones in  a tensor"
      ],
      "metadata": {
        "id": "k75UvHhpMrjb"
      }
    },
    {
      "cell_type": "code",
      "source": [
        "zero = torch.zeros(3,4)"
      ],
      "metadata": {
        "id": "3h5s5InzMuVW"
      },
      "execution_count": 17,
      "outputs": []
    },
    {
      "cell_type": "code",
      "source": [
        "zero"
      ],
      "metadata": {
        "colab": {
          "base_uri": "https://localhost:8080/"
        },
        "id": "L1Rl5fTmMzTb",
        "outputId": "306fb9bf-403b-46c0-dc88-e592932b55d6"
      },
      "execution_count": 18,
      "outputs": [
        {
          "output_type": "execute_result",
          "data": {
            "text/plain": [
              "tensor([[0., 0., 0., 0.],\n",
              "        [0., 0., 0., 0.],\n",
              "        [0., 0., 0., 0.]])"
            ]
          },
          "metadata": {},
          "execution_count": 18
        }
      ]
    },
    {
      "cell_type": "code",
      "source": [
        "ones  = torch.ones(3,4)\n",
        "ones"
      ],
      "metadata": {
        "colab": {
          "base_uri": "https://localhost:8080/"
        },
        "id": "88L6zz6mM1gY",
        "outputId": "27fcd483-09f2-4629-cf93-adc14f75863f"
      },
      "execution_count": 19,
      "outputs": [
        {
          "output_type": "execute_result",
          "data": {
            "text/plain": [
              "tensor([[1., 1., 1., 1.],\n",
              "        [1., 1., 1., 1.],\n",
              "        [1., 1., 1., 1.]])"
            ]
          },
          "metadata": {},
          "execution_count": 19
        }
      ]
    },
    {
      "cell_type": "code",
      "source": [
        "ones.dtype"
      ],
      "metadata": {
        "colab": {
          "base_uri": "https://localhost:8080/"
        },
        "id": "rM4ipE1zM_0r",
        "outputId": "dbc867e2-8423-42d7-c918-050bfea2e90e"
      },
      "execution_count": 20,
      "outputs": [
        {
          "output_type": "execute_result",
          "data": {
            "text/plain": [
              "torch.float32"
            ]
          },
          "metadata": {},
          "execution_count": 20
        }
      ]
    },
    {
      "cell_type": "markdown",
      "source": [
        "Range of tensors"
      ],
      "metadata": {
        "id": "bFwkfKfuNUzg"
      }
    },
    {
      "cell_type": "code",
      "source": [
        "zero_to_ten=torch.arange(0,10)"
      ],
      "metadata": {
        "id": "Q9mYIhYZNGAi"
      },
      "execution_count": 21,
      "outputs": []
    },
    {
      "cell_type": "code",
      "source": [
        "ten_zeroes = torch.zeros_like(input=zero_to_ten)\n",
        "ten_zeroes"
      ],
      "metadata": {
        "colab": {
          "base_uri": "https://localhost:8080/"
        },
        "id": "Lq439m0sNbLm",
        "outputId": "21980b3d-79dd-4d1a-df10-b534f356c471"
      },
      "execution_count": 22,
      "outputs": [
        {
          "output_type": "execute_result",
          "data": {
            "text/plain": [
              "tensor([0, 0, 0, 0, 0, 0, 0, 0, 0, 0])"
            ]
          },
          "metadata": {},
          "execution_count": 22
        }
      ]
    },
    {
      "cell_type": "code",
      "source": [
        "#tensor data types\n",
        "#float 32\n",
        "float_32_tensor = torch.tensor([3.,6.,9.])\n",
        "float_32_tensor"
      ],
      "metadata": {
        "colab": {
          "base_uri": "https://localhost:8080/"
        },
        "id": "49BeChhbOAKN",
        "outputId": "b1b3037a-6f51-45c6-82c2-a692e72b3baf"
      },
      "execution_count": 30,
      "outputs": [
        {
          "output_type": "execute_result",
          "data": {
            "text/plain": [
              "tensor([3., 6., 9.])"
            ]
          },
          "metadata": {},
          "execution_count": 30
        }
      ]
    },
    {
      "cell_type": "code",
      "source": [
        "float_32_tensor.dtype"
      ],
      "metadata": {
        "colab": {
          "base_uri": "https://localhost:8080/"
        },
        "id": "Dez0UYA-O14V",
        "outputId": "d67c3ba4-aa3e-431c-945c-341c02e35ee6"
      },
      "execution_count": 31,
      "outputs": [
        {
          "output_type": "execute_result",
          "data": {
            "text/plain": [
              "torch.float32"
            ]
          },
          "metadata": {},
          "execution_count": 31
        }
      ]
    },
    {
      "cell_type": "code",
      "source": [],
      "metadata": {
        "id": "rwJxqQYRPNTY"
      },
      "execution_count": null,
      "outputs": []
    }
  ]
}